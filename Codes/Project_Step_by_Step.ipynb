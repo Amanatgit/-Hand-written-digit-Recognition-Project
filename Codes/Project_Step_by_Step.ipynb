{
 "cells": [
  {
   "cell_type": "markdown",
   "metadata": {},
   "source": [
    "# Importing important libararies to use keras and images "
   ]
  },
  {
   "cell_type": "code",
   "execution_count": 3,
   "metadata": {},
   "outputs": [
    {
     "name": "stderr",
     "output_type": "stream",
     "text": [
      "Using TensorFlow backend.\n"
     ]
    }
   ],
   "source": [
    "from __future__ import print_function\n",
    "import keras\n",
    "#from keras.datasets import mnist\n",
    "from keras.models import Sequential\n",
    "from keras.layers import Dense, Dropout, Flatten, Activation\n",
    "from keras.layers import Conv2D, MaxPooling2D\n",
    "from keras import backend as K\n",
    "from keras.layers.normalization import BatchNormalization\n",
    "import numpy as np\n",
    "import matplotlib.pyplot as plt\n",
    "from sklearn.model_selection import train_test_split\n",
    "import json\n",
    "import cv2"
   ]
  },
  {
   "cell_type": "markdown",
   "metadata": {},
   "source": [
    "# Fixing some HyperParameters for the training and image size"
   ]
  },
  {
   "cell_type": "code",
   "execution_count": 4,
   "metadata": {},
   "outputs": [],
   "source": [
    "# fix random seed for reproducibility\n",
    "seed = 7\n",
    "np.random.seed(seed)\n",
    "batch_size = 128#how many batches at a time to fasten our training\n",
    "num_classes = 19#number of classes (Geez digits we need)\n",
    "epochs = 10 #how many iteration we need for the models to learn \n",
    "img_rows= 64 #fixing the image row\n",
    "img_cols = 64 #fixing image height\n",
    "num_pixels = img_cols*img_rows #total number of pixels we have after fixing the images"
   ]
  },
  {
   "cell_type": "markdown",
   "metadata": {},
   "source": [
    "# We need to shafle the data to make our training robust and not biased by the sequence of data"
   ]
  },
  {
   "cell_type": "code",
   "execution_count": 5,
   "metadata": {},
   "outputs": [],
   "source": [
    "# load data\n",
    "def shaffle_Normalize(data,labels):\n",
    "    X_train = data / 255\n",
    "    s = np.arange(X_train.shape[0])\n",
    "    np.random.shuffle(s)\n",
    "    X_train=X_train[s]\n",
    "    y_train=labels[s]\n",
    "    return X_train,y_train"
   ]
  },
  {
   "cell_type": "markdown",
   "metadata": {},
   "source": [
    "# A function  to load the preprocessed data for training, it calls the shaffle function"
   ]
  },
  {
   "cell_type": "code",
   "execution_count": 6,
   "metadata": {},
   "outputs": [],
   "source": [
    "def load_data():\n",
    "    data=np.load('GeezDigitsDataset.npy')\n",
    "    labels=np.load('One_Hot_labels.npy')\n",
    "    X_train,y_train=shaffle_Normalize(data,labels)\n",
    "    X_train, X_test, y_train, y_test = train_test_split(X_train, y_train, test_size=0.25)\n",
    "    return X_train,y_train,X_test,y_test\n"
   ]
  },
  {
   "cell_type": "markdown",
   "metadata": {},
   "source": [
    "# The following function is to prepare the data for training, it used the load function to load data"
   ]
  },
  {
   "cell_type": "code",
   "execution_count": 7,
   "metadata": {},
   "outputs": [],
   "source": [
    "def prepare4training():\n",
    "    batch_size = 128\n",
    "    num_classes = 19\n",
    "    epochs = 10\n",
    "    X_train,y_train,X_test,y_test=load_data()\n",
    "    # input image dimensions\n",
    "    img_rows, img_cols = 64, 64\n",
    "\n",
    "    if K.image_data_format() == 'channels_first':\n",
    "        X_train = X_train.reshape(X_train.shape[0], 3, img_rows, img_cols)\n",
    "        X_test = X_test.reshape(X_test.shape[0], 3, img_rows, img_cols)\n",
    "        input_shape = (3, img_rows, img_cols)\n",
    "    else:\n",
    "        X_train = X_train.reshape(X_train.shape[0], img_rows, img_cols, 3)\n",
    "        X_test = X_test.reshape(X_test.shape[0], img_rows, img_cols, 3)\n",
    "        input_shape = (img_rows, img_cols, 3)\n",
    "\n",
    "    print('X_train shape:', X_train.shape)\n",
    "    print(X_train.shape[0], 'train samples')\n",
    "    print(X_test.shape[0], 'test samples')\n",
    "\n",
    "    return X_train,y_train,X_test,y_test\n"
   ]
  },
  {
   "cell_type": "markdown",
   "metadata": {},
   "source": [
    "# Now the data is ready we start building the neural network models"
   ]
  },
  {
   "cell_type": "markdown",
   "metadata": {},
   "source": [
    "The MLP base line have one input layer one hidden layer and one ouput layer"
   ]
  },
  {
   "cell_type": "code",
   "execution_count": 8,
   "metadata": {},
   "outputs": [],
   "source": [
    "#ase line a Multilayer perceptron (MLP)\n",
    "def baseline_model():\n",
    "    # create model\n",
    "    model = Sequential()\n",
    "    model.add(Flatten(input_shape=(img_rows, img_cols,3)))\n",
    "    model.add(Dense(num_pixels, input_dim=num_pixels, kernel_initializer='normal', activation='relu'))\n",
    "    #model.add(Flatten(input_shape=(img_rows, img_cols,3)))\n",
    "    model.add(Dense(num_classes, kernel_initializer='normal', activation='softmax'))\n",
    "    # Compile model\n",
    "    model.compile(loss='categorical_crossentropy', optimizer='adam', metrics=['accuracy'])\n",
    "    return model"
   ]
  },
  {
   "cell_type": "markdown",
   "metadata": {},
   "source": [
    "# Buildinf CNN baseline\n",
    "It has one Convolutional input layer one Convolutional hidden layer, one linear hidden layer \n",
    "and one fully connected ouput layer"
   ]
  },
  {
   "cell_type": "code",
   "execution_count": 9,
   "metadata": {},
   "outputs": [],
   "source": [
    "def baseline_model_CNN():\n",
    "    # create model\n",
    "    model = Sequential()\n",
    "    model.add(Conv2D(32, (5, 5), input_shape=(64, 64,3), activation='relu'))\n",
    "    model.add(MaxPooling2D(pool_size=(2, 2)))\n",
    "    model.add(Dropout(0.2))\n",
    "    model.add(Flatten())\n",
    "    model.add(Dense(128, activation='relu'))\n",
    "    model.add(Dense(num_classes, activation='softmax'))\n",
    "    # Compile model\n",
    "    model.compile(loss='categorical_crossentropy', optimizer='adam', metrics=['accuracy'])\n",
    "    return model"
   ]
  },
  {
   "cell_type": "markdown",
   "metadata": {},
   "source": [
    "# A little Larger baseline CNN"
   ]
  },
  {
   "cell_type": "code",
   "execution_count": 18,
   "metadata": {},
   "outputs": [],
   "source": [
    "def larger_model():\n",
    "    # create model\n",
    "    model = Sequential()\n",
    "    model.add(Conv2D(32, (5, 5), input_shape=(64, 64, 3), activation='relu'))\n",
    "    model.add(MaxPooling2D(pool_size=(2, 2)))\n",
    "    model.add(Conv2D(15, (3, 3), activation='relu'))\n",
    "    model.add(MaxPooling2D(pool_size=(2, 2)))\n",
    "    model.add(Dropout(0.2))\n",
    "    model.add(Flatten())\n",
    "    model.add(Dense(128, activation='relu'))\n",
    "    model.add(Dense(50, activation='relu'))\n",
    "    model.add(Dense(num_classes, activation='softmax'))\n",
    "    # Compile model\n",
    "    model.compile(loss='categorical_crossentropy', optimizer='adam', metrics=['accuracy'])\n",
    "    return model"
   ]
  },
  {
   "cell_type": "markdown",
   "metadata": {},
   "source": [
    "# Buliding Best CNN model with conrolling overfitting using drop out and batch normalization\n",
    "It has one input layer, 3 convolutional hidden layer and one linear hidden layer and then an ouput layer\n",
    "it uses maximum pooling to narrow data the interesting area of the cnn"
   ]
  },
  {
   "cell_type": "code",
   "execution_count": 10,
   "metadata": {},
   "outputs": [],
   "source": [
    "def builgCNN():\n",
    "    model = Sequential()\n",
    "\n",
    "    model.add(Conv2D(32, (3, 3), input_shape=(64,64,3)))\n",
    "    model.add(Activation('relu'))\n",
    "    BatchNormalization(axis=-1)\n",
    "    model.add(Conv2D(32, (3, 3)))\n",
    "    model.add(Activation('relu'))\n",
    "    model.add(MaxPooling2D(pool_size=(2,2)))\n",
    "\n",
    "    BatchNormalization(axis=-1)\n",
    "    model.add(Conv2D(64,(3, 3)))\n",
    "    model.add(Activation('relu'))\n",
    "    BatchNormalization(axis=-1)\n",
    "    model.add(Conv2D(64, (3, 3)))\n",
    "    model.add(Activation('relu'))\n",
    "    model.add(MaxPooling2D(pool_size=(2,2)))\n",
    "\n",
    "    model.add(Flatten())\n",
    "    # Fully connected layer\n",
    "\n",
    "    BatchNormalization()\n",
    "    model.add(Dense(512))\n",
    "    model.add(Activation('relu'))\n",
    "    BatchNormalization()\n",
    "    model.add(Dropout(0.2))\n",
    "    model.add(Dense(19))\n",
    "\n",
    "    model.add(Activation('softmax'))\n",
    "\n",
    "    return model"
   ]
  },
  {
   "cell_type": "markdown",
   "metadata": {},
   "source": [
    "# Now it time to train the sytem usinf the function train \n",
    "which takes a NN model and the training data as input"
   ]
  },
  {
   "cell_type": "code",
   "execution_count": 11,
   "metadata": {},
   "outputs": [],
   "source": [
    "def trainingModel(model,X_train,y_train,X_test,y_test,model_name):\n",
    "    model.compile(loss=keras.losses.categorical_crossentropy,\n",
    "              optimizer=keras.optimizers.Adam(),\n",
    "              metrics=['accuracy'])\n",
    "\n",
    "    \"\"\"history=model.fit(X_train, y_train,\n",
    "              batch_size=batch_size,\n",
    "              epochs=epochs,\n",
    "              verbose=2,\n",
    "              validation_data=(X_test, y_test))\"\"\"\n",
    "    history = model.fit(X_train, y_train, validation_split=0.33, epochs=epochs, batch_size=batch_size, verbose=2)\n",
    "    score = model.evaluate(X_test, y_test, verbose=1)\n",
    "    print('Test loss:', score[0])\n",
    "    print('Test accuracy:', score[1])\n",
    "    # list all data in history\n",
    "    print(history.history.keys())\n",
    "    # summarize history for accuracy\n",
    "    #fig = plt.figure(figsize=(12,8))\n",
    "    plt.plot(history.history['acc'])\n",
    "    plt.plot(history.history['val_acc'])\n",
    "    plt.title('model accuracy')\n",
    "    plt.ylabel('accuracy')\n",
    "    plt.xlabel('epoch')\n",
    "    plt.legend(['train', 'test'], loc='upper left')\n",
    "    plt.savefig('Accuracy_model_'+str(model_name))\n",
    "    #plt.show()\n",
    "    # summarize history for loss\n",
    "    #plt.close(fig)\n",
    "    #fig = plt.figure(figsize=(12,8))\n",
    "    plt.plot(history.history['loss'])\n",
    "    plt.plot(history.history['val_loss'])\n",
    "    plt.title('model loss')\n",
    "    plt.ylabel('loss')\n",
    "    plt.xlabel('epoch')\n",
    "    plt.legend(['train', 'test'], loc='upper left')\n",
    "    plt.savefig('Loss_model_'+str(model_name))\n",
    "    #plt.close(fig)\n",
    "\n",
    "    with open('history_model_'+str(model_name)+'.json', 'w') as f:\n",
    "        json.dump(history.history, f)\n",
    "\n",
    "    model.save('mnist_keras_cnn_model.h5')\n"
   ]
  },
  {
   "cell_type": "markdown",
   "metadata": {},
   "source": [
    "# For training we pepare the data first so we call the prepare4training function as follows"
   ]
  },
  {
   "cell_type": "code",
   "execution_count": 12,
   "metadata": {},
   "outputs": [
    {
     "name": "stdout",
     "output_type": "stream",
     "text": [
      "X_train shape: (7125, 64, 64, 3)\n",
      "7125 train samples\n",
      "2375 test samples\n"
     ]
    }
   ],
   "source": [
    "X_train,y_train,X_test,y_test=prepare4training()"
   ]
  },
  {
   "cell_type": "markdown",
   "metadata": {},
   "source": [
    "# Then we build the model and call the trainingModel function giving the models built"
   ]
  },
  {
   "cell_type": "code",
   "execution_count": 67,
   "metadata": {},
   "outputs": [
    {
     "name": "stdout",
     "output_type": "stream",
     "text": [
      "Train on 4773 samples, validate on 2352 samples\n",
      "Epoch 1/10\n",
      " - 55s - loss: 15.2726 - acc: 0.0524 - val_loss: 15.2683 - val_acc: 0.0527\n",
      "Epoch 2/10\n",
      " - 53s - loss: 15.2772 - acc: 0.0522 - val_loss: 15.2683 - val_acc: 0.0527\n",
      "Epoch 3/10\n",
      " - 50s - loss: 15.2772 - acc: 0.0522 - val_loss: 15.2683 - val_acc: 0.0527\n",
      "Epoch 4/10\n",
      " - 50s - loss: 15.2772 - acc: 0.0522 - val_loss: 15.2683 - val_acc: 0.0527\n",
      "Epoch 5/10\n",
      " - 50s - loss: 15.2772 - acc: 0.0522 - val_loss: 15.2683 - val_acc: 0.0527\n",
      "Epoch 6/10\n",
      " - 49s - loss: 15.2772 - acc: 0.0522 - val_loss: 15.2683 - val_acc: 0.0527\n",
      "Epoch 7/10\n",
      " - 54s - loss: 15.2772 - acc: 0.0522 - val_loss: 15.2683 - val_acc: 0.0527\n",
      "Epoch 8/10\n",
      " - 51s - loss: 15.2772 - acc: 0.0522 - val_loss: 15.2683 - val_acc: 0.0527\n",
      "Epoch 9/10\n",
      " - 49s - loss: 15.2772 - acc: 0.0522 - val_loss: 15.2683 - val_acc: 0.0527\n",
      "Epoch 10/10\n",
      " - 51s - loss: 15.2772 - acc: 0.0522 - val_loss: 15.2683 - val_acc: 0.0527\n",
      "2375/2375 [==============================] - 9s 4ms/step\n",
      "Test loss: 15.256201149388364\n",
      "Test accuracy: 0.05347368421052632\n",
      "dict_keys(['val_acc', 'loss', 'acc', 'val_loss'])\n"
     ]
    },
    {
     "data": {
      "image/png": "[encoded data removed]",
      "text/plain": [
       "<Figure size 432x288 with 1 Axes>"
      ]
     },
     "metadata": {},
     "output_type": "display_data"
    }
   ],
   "source": [
    "model=baseline_model()\n",
    "trainingModel(model,X_train,y_train,X_test,y_test,'baseline_MLP')"
   ]
  },
  {
   "cell_type": "code",
   "execution_count": 13,
   "metadata": {},
   "outputs": [
    {
     "name": "stdout",
     "output_type": "stream",
     "text": [
      "Train on 4773 samples, validate on 2352 samples\n",
      "Epoch 1/10\n",
      " - 26s - loss: 3.1732 - acc: 0.0765 - val_loss: 2.9289 - val_acc: 0.0910\n",
      "Epoch 2/10\n",
      " - 26s - loss: 2.8429 - acc: 0.1925 - val_loss: 2.6938 - val_acc: 0.3253\n",
      "Epoch 3/10\n",
      " - 26s - loss: 2.3759 - acc: 0.4054 - val_loss: 2.0894 - val_acc: 0.4418\n",
      "Epoch 4/10\n",
      " - 26s - loss: 1.7410 - acc: 0.5577 - val_loss: 1.6533 - val_acc: 0.5608\n",
      "Epoch 5/10\n",
      " - 26s - loss: 1.3532 - acc: 0.6411 - val_loss: 1.3966 - val_acc: 0.6190\n",
      "Epoch 6/10\n",
      " - 26s - loss: 1.1145 - acc: 0.7038 - val_loss: 1.2964 - val_acc: 0.6327\n",
      "Epoch 7/10\n",
      " - 26s - loss: 0.9206 - acc: 0.7526 - val_loss: 1.1573 - val_acc: 0.6773\n",
      "Epoch 8/10\n",
      " - 26s - loss: 0.7814 - acc: 0.7949 - val_loss: 1.1342 - val_acc: 0.6777\n",
      "Epoch 9/10\n",
      " - 26s - loss: 0.6666 - acc: 0.8295 - val_loss: 1.1058 - val_acc: 0.6764\n",
      "Epoch 10/10\n",
      " - 26s - loss: 0.5725 - acc: 0.8527 - val_loss: 1.0511 - val_acc: 0.6943\n",
      "2375/2375 [==============================] - 4s 2ms/step\n",
      "Test loss: 1.1295916071941978\n",
      "Test accuracy: 0.6652631579700269\n",
      "dict_keys(['val_acc', 'loss', 'acc', 'val_loss'])\n"
     ]
    },
    {
     "data": {
      "image/png": "[encoded data removed]",
      "text/plain": [
       "<Figure size 432x288 with 1 Axes>"
      ]
     },
     "metadata": {},
     "output_type": "display_data"
    }
   ],
   "source": [
    "model=baseline_model_CNN()\n",
    "trainingModel(model,X_train,y_train,X_test,y_test,'baseline_CNN')"
   ]
  },
  {
   "cell_type": "code",
   "execution_count": 14,
   "metadata": {},
   "outputs": [
    {
     "name": "stdout",
     "output_type": "stream",
     "text": [
      "Train on 4773 samples, validate on 2352 samples\n",
      "Epoch 1/10\n",
      " - 83s - loss: 2.3959 - acc: 0.2778 - val_loss: 1.4307 - val_acc: 0.5978\n",
      "Epoch 2/10\n",
      " - 82s - loss: 1.2518 - acc: 0.6231 - val_loss: 0.9725 - val_acc: 0.7109\n",
      "Epoch 3/10\n",
      " - 82s - loss: 0.7902 - acc: 0.7593 - val_loss: 0.6590 - val_acc: 0.7997\n",
      "Epoch 4/10\n",
      " - 84s - loss: 0.4885 - acc: 0.8414 - val_loss: 0.5439 - val_acc: 0.8397\n",
      "Epoch 5/10\n",
      " - 82s - loss: 0.3116 - acc: 0.9005 - val_loss: 0.4859 - val_acc: 0.8499\n",
      "Epoch 6/10\n",
      " - 82s - loss: 0.1970 - acc: 0.9359 - val_loss: 0.4576 - val_acc: 0.8720\n",
      "Epoch 7/10\n",
      " - 82s - loss: 0.1308 - acc: 0.9573 - val_loss: 0.4716 - val_acc: 0.8810\n",
      "Epoch 8/10\n",
      " - 84s - loss: 0.0853 - acc: 0.9711 - val_loss: 0.4600 - val_acc: 0.8771\n",
      "Epoch 9/10\n",
      " - 80s - loss: 0.0558 - acc: 0.9818 - val_loss: 0.4827 - val_acc: 0.8793\n",
      "Epoch 10/10\n",
      " - 80s - loss: 0.0454 - acc: 0.9868 - val_loss: 0.5405 - val_acc: 0.8801\n",
      "2375/2375 [==============================] - 10s 4ms/step\n",
      "Test loss: 0.5476253169775009\n",
      "Test accuracy: 0.8863157894987809\n",
      "dict_keys(['val_acc', 'loss', 'acc', 'val_loss'])\n"
     ]
    },
    {
     "data": {
      "image/png": "[encoded data removed]",
      "text/plain": [
       "<Figure size 432x288 with 1 Axes>"
      ]
     },
     "metadata": {},
     "output_type": "display_data"
    }
   ],
   "source": [
    "model=builgCNN()\n",
    "trainingModel(model,X_train,y_train,X_test,y_test,'Best_CNN')"
   ]
  },
  {
   "cell_type": "code",
   "execution_count": 19,
   "metadata": {},
   "outputs": [
    {
     "name": "stdout",
     "output_type": "stream",
     "text": [
      "Train on 4773 samples, validate on 2352 samples\n",
      "Epoch 1/10\n",
      " - 32s - loss: 2.9308 - acc: 0.0819 - val_loss: 2.8146 - val_acc: 0.2147\n",
      "Epoch 2/10\n",
      " - 34s - loss: 2.3832 - acc: 0.2986 - val_loss: 1.9351 - val_acc: 0.4660\n",
      "Epoch 3/10\n",
      " - 31s - loss: 1.5957 - acc: 0.5292 - val_loss: 1.3786 - val_acc: 0.5863\n",
      "Epoch 4/10\n",
      " - 31s - loss: 1.2643 - acc: 0.6195 - val_loss: 1.3716 - val_acc: 0.6199\n",
      "Epoch 5/10\n",
      " - 31s - loss: 1.1280 - acc: 0.6706 - val_loss: 1.0868 - val_acc: 0.6752\n",
      "Epoch 6/10\n",
      " - 31s - loss: 1.0124 - acc: 0.7002 - val_loss: 1.1116 - val_acc: 0.6747\n",
      "Epoch 7/10\n",
      " - 31s - loss: 0.9753 - acc: 0.7178 - val_loss: 1.0519 - val_acc: 0.6922\n",
      "Epoch 8/10\n",
      " - 31s - loss: 0.8452 - acc: 0.7463 - val_loss: 0.9094 - val_acc: 0.7219\n",
      "Epoch 9/10\n",
      " - 31s - loss: 0.7548 - acc: 0.7765 - val_loss: 0.8476 - val_acc: 0.7449\n",
      "Epoch 10/10\n",
      " - 34s - loss: 0.6777 - acc: 0.7934 - val_loss: 0.8157 - val_acc: 0.7487\n",
      "2375/2375 [==============================] - 5s 2ms/step\n",
      "Test loss: 0.9041769968835931\n",
      "Test accuracy: 0.7221052632080881\n",
      "dict_keys(['val_acc', 'loss', 'acc', 'val_loss'])\n"
     ]
    },
    {
     "data": {
      "image/png": "[encoded data removed]",
      "text/plain": [
       "<Figure size 432x288 with 1 Axes>"
      ]
     },
     "metadata": {},
     "output_type": "display_data"
    }
   ],
   "source": [
    "model=larger_model()\n",
    "trainingModel(model,X_train,y_train,X_test,y_test,'largeBS_CNN')"
   ]
  },
  {
   "cell_type": "code",
   "execution_count": 41,
   "metadata": {},
   "outputs": [],
   "source": [
    "def print_prediction(imageFile):\n",
    "    geezDigitList=['፩', '፪', '፫', '፬', '፭', '፮', '፯', '፰', '፱ ', '፲', '፳', '፴', '፵', '፶ ', '፷', '፸ ', '፹', '፺', '፻']\n",
    "    geezDigitListRevesed=[\"፻\",\"፺\",\"፹\",\"፸ \",\"፷\",\"፶ \",\"፵\",\"፴\",\"፳\",\"፲\",\"፱ \",\"፰\",\"፯\",\"፮\",\"፭\",\"፬\",\"፫\",\"፪\",\"፩\"]\n",
    "    Labels=[1,2,3,4,5,6,7,8,9,10,20,30,40,50,60,70,80,90,100]\n",
    "    img='/home/berhe/Desktop/Geni_Project/Hand-written-digit-Recognition-Project/Data collected/Abeba Araya/50.JPG'\n",
    "\n",
    "    full_size_image=cv2.imread(imageFile)\n",
    "    cv2.imshow('input image',full_size_image)\n",
    "    image=cv2.resize(full_size_image,(64, 64),interpolation=cv2.INTER_CUBIC)\n",
    "    image=image.reshape((1, image.shape[0], image.shape[1], image.shape[2]))\n",
    "    #print('Image shape: {}'.fromat((image.shape)))\n",
    "    #image.show()\n",
    "    classes = model.predict_classes(image)\n",
    "    print(classes[0])\n",
    "    print('The hand written digit is :{}'.format(Labels[classes[0]]))\n",
    "    print('The equivalent Geez Digit is: {}'.format(geezDigitList[classes[0]]))"
   ]
  },
  {
   "cell_type": "code",
   "execution_count": 42,
   "metadata": {},
   "outputs": [],
   "source": [
    "%matplotlib inline"
   ]
  },
  {
   "cell_type": "code",
   "execution_count": 43,
   "metadata": {},
   "outputs": [
    {
     "name": "stdout",
     "output_type": "stream",
     "text": [
      "14\n",
      "The hand written digit is :60\n",
      "The equivalent Geez Digit is: ፷\n"
     ]
    }
   ],
   "source": [
    "img='/home/berhe/Desktop/Geni_Project/Hand-written-digit-Recognition-Project/Data collected/Abeba Araya/50.JPG'\n",
    "print_prediction(img)"
   ]
  },
  {
   "cell_type": "code",
   "execution_count": 66,
   "metadata": {},
   "outputs": [
    {
     "name": "stdout",
     "output_type": "stream",
     "text": [
      "18\n",
      "The hand written digit is :100\n",
      "The equivalent Geez Digit is: ፻\n"
     ]
    }
   ],
   "source": [
    "img='/home/berhe/Desktop/Geni_Project/Hand-written-digit-Recognition-Project/Data collected/Abeba Araya/90.JPG'\n",
    "print_prediction(img)"
   ]
  },
  {
   "cell_type": "markdown",
   "metadata": {},
   "source": [
    "We can also see which class is choosen : the one wh=ith beggest probability is the class"
   ]
  },
  {
   "cell_type": "code",
   "execution_count": 64,
   "metadata": {},
   "outputs": [],
   "source": [
    "def prediction(imageFile):\n",
    "    full_size_image=cv2.imread(imageFile)\n",
    "    cv2.imshow('input image',full_size_image)\n",
    "    image=cv2.resize(full_size_image,(64, 64),interpolation=cv2.INTER_CUBIC)\n",
    "    image=image.reshape((1, image.shape[0], image.shape[1], image.shape[2]))\n",
    "    #print('Image shape: {}'.fromat((image.shape)))\n",
    "    #image.show()\n",
    "    classes = model.predict_proba(image)\n",
    "    print(classes)\n",
    "    "
   ]
  },
  {
   "cell_type": "code",
   "execution_count": 65,
   "metadata": {},
   "outputs": [
    {
     "name": "stdout",
     "output_type": "stream",
     "text": [
      "[[0. 0. 0. 0. 0. 0. 0. 0. 0. 0. 1. 0. 0. 0. 0. 0. 0. 0. 0.]]\n"
     ]
    }
   ],
   "source": [
    "prediction(img)"
   ]
  },
  {
   "cell_type": "code",
   "execution_count": null,
   "metadata": {},
   "outputs": [],
   "source": []
  }
 ],
 "metadata": {
  "kernelspec": {
   "display_name": "Python 3",
   "language": "python",
   "name": "python3"
  },
  "language_info": {
   "codemirror_mode": {
    "name": "ipython",
    "version": 3
   },
   "file_extension": ".py",
   "mimetype": "text/x-python",
   "name": "python",
   "nbconvert_exporter": "python",
   "pygments_lexer": "ipython3",
   "version": "3.5.5"
  }
 },
 "nbformat": 4,
 "nbformat_minor": 2
}
