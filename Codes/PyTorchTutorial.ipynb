{
 "cells": [
  {
   "cell_type": "markdown",
   "metadata": {},
   "source": [
    "# This is simple tutorial to introduce you to pytorch and neural networks."
   ]
  },
  {
   "cell_type": "markdown",
   "metadata": {},
   "source": [
    "First we import the necessary libraries "
   ]
  },
  {
   "cell_type": "code",
   "execution_count": 4,
   "metadata": {},
   "outputs": [],
   "source": [
    "import torch\n",
    "import torch.nn as nn\n",
    "import torchvision\n",
    "from torchvision import transforms"
   ]
  },
  {
   "cell_type": "markdown",
   "metadata": {},
   "source": [
    "We import the MNIST dataset, its a toy data for practicing: We differentiate the training dataset and the test dataset\n",
    "    the training data is to train the NN and the test data is to test our accuracy after the training is finished"
   ]
  },
  {
   "cell_type": "code",
   "execution_count": 5,
   "metadata": {},
   "outputs": [],
   "source": [
    "\n",
    "train_dataset = torchvision.datasets.MNIST(root='./data',train=True,transform=transforms.ToTensor(),download=True)\n",
    "\n",
    "test_dataset = torchvision.datasets.MNIST(root='./data',train=False,transform=transforms.ToTensor(),download = True)\n",
    "\n",
    "\n",
    "train_loader = torch.utils.data.DataLoader(dataset=train_dataset, batch_size=100,shuffle=True)\n",
    "#, transform=transforms.ToTensor()\n",
    "\n",
    "test_loader = torch.utils.data.DataLoader(dataset=test_dataset,  batch_size=100, shuffle=False)"
   ]
  },
  {
   "cell_type": "markdown",
   "metadata": {},
   "source": [
    "Build a normal feedforward multilayer perceptron (MLP) NN by fixing the sizes of the neurons on each layer including the hidden layer"
   ]
  },
  {
   "cell_type": "code",
   "execution_count": 6,
   "metadata": {},
   "outputs": [],
   "source": [
    "class NeuralNet(nn.Module):\n",
    "    \"\"\"A Neural Network with a hidden layer\"\"\"\n",
    "    def __init__(self, input_size,hidden_size,output_size):\n",
    "        super(NeuralNet, self).__init__()\n",
    "        self.layer1 = nn.Linear(input_size, hidden_size)\n",
    "        self.layer2 = nn.Linear(hidden_size, output_size)\n",
    "        self.relu = nn.ReLU()\n",
    "\n",
    "    def forward(self, x):\n",
    "        output = self.layer1(x)\n",
    "        output = self.relu(output)\n",
    "        output = self.layer2(output)\n",
    "        return output"
   ]
  },
  {
   "cell_type": "markdown",
   "metadata": {},
   "source": [
    "Build a Convolutional Neural Network you can add the layers as much as we want"
   ]
  },
  {
   "cell_type": "code",
   "execution_count": 12,
   "metadata": {},
   "outputs": [],
   "source": [
    "# Convolutional neural network (two convolutional layers)\n",
    "class ConvNet(nn.Module):\n",
    "    def __init__(self, num_classes=10):\n",
    "        super(ConvNet, self).__init__()\n",
    "        self.layer1 = nn.Sequential(\n",
    "            nn.Conv2d(1, 16, kernel_size=5, stride=1, padding=2),\n",
    "            nn.BatchNorm2d(16),\n",
    "            nn.ReLU(),\n",
    "            nn.MaxPool2d(kernel_size=2, stride=2))\n",
    "        self.layer2 = nn.Sequential(\n",
    "            nn.Conv2d(16, 32, kernel_size=5, stride=1, padding=2),\n",
    "            nn.BatchNorm2d(32),\n",
    "            nn.ReLU(),\n",
    "            nn.MaxPool2d(kernel_size=2, stride=2))\n",
    "        self.fc = nn.Linear(7*7*32, num_classes)\n",
    "        \n",
    "    def forward(self, x):\n",
    "        out = self.layer1(x)\n",
    "        out = self.layer2(out)\n",
    "        out = out.reshape(out.size(0), -1)\n",
    "        out = self.fc(out)\n",
    "        return out"
   ]
  },
  {
   "cell_type": "markdown",
   "metadata": {},
   "source": [
    "Fix the NN parameters during training of the networks. this parameters are done for MLP (the above neural network)"
   ]
  },
  {
   "cell_type": "code",
   "execution_count": 14,
   "metadata": {},
   "outputs": [],
   "source": [
    "input_size = 784\n",
    "hidden_size = 500\n",
    "output_size = 10\n",
    "num_epochs = 5\n",
    "\n",
    "learning_rate = 0.001\n",
    "\n",
    "model = NeuralNet(input_size,hidden_size, output_size)\n",
    "\n",
    "lossFunction = nn.CrossEntropyLoss()\n",
    "optimizer = torch.optim.Adam(model.parameters(), lr=learning_rate)"
   ]
  },
  {
   "cell_type": "markdown",
   "metadata": {},
   "source": [
    "Training the MLP using the data and the above parameters: for 5 epoches "
   ]
  },
  {
   "cell_type": "code",
   "execution_count": 9,
   "metadata": {},
   "outputs": [
    {
     "name": "stdout",
     "output_type": "stream",
     "text": [
      "Epoch [1/5], Step [100/600], Loss: 0.3573\n",
      "Epoch [1/5], Step [200/600], Loss: 0.4312\n",
      "Epoch [1/5], Step [300/600], Loss: 0.2016\n",
      "Epoch [1/5], Step [400/600], Loss: 0.1329\n",
      "Epoch [1/5], Step [500/600], Loss: 0.2013\n",
      "Epoch [1/5], Step [600/600], Loss: 0.0905\n",
      "Epoch [2/5], Step [100/600], Loss: 0.0968\n",
      "Epoch [2/5], Step [200/600], Loss: 0.1155\n",
      "Epoch [2/5], Step [300/600], Loss: 0.1775\n",
      "Epoch [2/5], Step [400/600], Loss: 0.0586\n",
      "Epoch [2/5], Step [500/600], Loss: 0.0788\n",
      "Epoch [2/5], Step [600/600], Loss: 0.1213\n",
      "Epoch [3/5], Step [100/600], Loss: 0.0522\n",
      "Epoch [3/5], Step [200/600], Loss: 0.1272\n",
      "Epoch [3/5], Step [300/600], Loss: 0.1144\n",
      "Epoch [3/5], Step [400/600], Loss: 0.0337\n",
      "Epoch [3/5], Step [500/600], Loss: 0.0984\n",
      "Epoch [3/5], Step [600/600], Loss: 0.0679\n",
      "Epoch [4/5], Step [100/600], Loss: 0.0697\n",
      "Epoch [4/5], Step [200/600], Loss: 0.0773\n",
      "Epoch [4/5], Step [300/600], Loss: 0.0372\n",
      "Epoch [4/5], Step [400/600], Loss: 0.0538\n",
      "Epoch [4/5], Step [500/600], Loss: 0.2141\n",
      "Epoch [4/5], Step [600/600], Loss: 0.0864\n",
      "Epoch [5/5], Step [100/600], Loss: 0.0506\n",
      "Epoch [5/5], Step [200/600], Loss: 0.0405\n",
      "Epoch [5/5], Step [300/600], Loss: 0.0502\n",
      "Epoch [5/5], Step [400/600], Loss: 0.0210\n",
      "Epoch [5/5], Step [500/600], Loss: 0.0486\n",
      "Epoch [5/5], Step [600/600], Loss: 0.0244\n"
     ]
    }
   ],
   "source": [
    "total_step = len(train_loader)\n",
    "for epoch in range(num_epochs):\n",
    "    for i, (images,labels) in enumerate(train_loader):\n",
    "        images = images.reshape(-1,28*28)\n",
    "        #show_batch(images)\n",
    "        out = model(images)\n",
    "        loss = lossFunction(out,labels)\n",
    "\n",
    "        optimizer.zero_grad()\n",
    "        loss.backward()\n",
    "        optimizer.step()\n",
    "\n",
    "        if (i+1) % 100 == 0:\n",
    "            print('Epoch [{}/{}], Step [{}/{}], Loss: {:.4f}' .format(epoch+1, num_epochs, i+1, total_step, loss.item()))\n"
   ]
  },
  {
   "cell_type": "markdown",
   "metadata": {},
   "source": [
    "This code below evaluates the model we trained before using the test dataset: It shows the accuracy of correctly clasifying \n",
    "    the test data"
   ]
  },
  {
   "cell_type": "code",
   "execution_count": 11,
   "metadata": {},
   "outputs": [
    {
     "name": "stdout",
     "output_type": "stream",
     "text": [
      "Accuracy of the network on the 10000 test images: 97.93 %\n"
     ]
    }
   ],
   "source": [
    "with torch.no_grad():\n",
    "    correct = 0\n",
    "    total = 0\n",
    "    for images,labels in test_loader:\n",
    "        images = images.reshape(-1,28*28)\n",
    "        out = model(images)\n",
    "        _,predicted = torch.max(out.data,1)\n",
    "        total += labels.size(0)\n",
    "        correct += (predicted==labels).sum().item()\n",
    "    print('Accuracy of the network on the 10000 test images: {} %'.format(100 * correct / total))\n"
   ]
  },
  {
   "cell_type": "markdown",
   "metadata": {},
   "source": [
    "Training The CNN by fixing its parameters: we can use the previous parameters but some times the dont't match so we define them again"
   ]
  },
  {
   "cell_type": "code",
   "execution_count": 15,
   "metadata": {},
   "outputs": [],
   "source": [
    "device = torch.device('cuda:0' if torch.cuda.is_available() else 'cpu')\n",
    "\n",
    "# Hyper parameters\n",
    "num_epochs = 5\n",
    "num_classes = 10\n",
    "batch_size = 100\n",
    "learning_rate = 0.001"
   ]
  },
  {
   "cell_type": "markdown",
   "metadata": {},
   "source": [
    "Training The CNN and building the CNN model"
   ]
  },
  {
   "cell_type": "code",
   "execution_count": 16,
   "metadata": {},
   "outputs": [
    {
     "name": "stdout",
     "output_type": "stream",
     "text": [
      "Epoch [1/5], Step [100/600], Loss: 0.1489\n",
      "Epoch [1/5], Step [200/600], Loss: 0.0716\n",
      "Epoch [1/5], Step [300/600], Loss: 0.0666\n",
      "Epoch [1/5], Step [400/600], Loss: 0.0367\n",
      "Epoch [1/5], Step [500/600], Loss: 0.0455\n",
      "Epoch [1/5], Step [600/600], Loss: 0.0476\n",
      "Epoch [2/5], Step [100/600], Loss: 0.0228\n",
      "Epoch [2/5], Step [200/600], Loss: 0.0201\n",
      "Epoch [2/5], Step [300/600], Loss: 0.0254\n",
      "Epoch [2/5], Step [400/600], Loss: 0.0464\n",
      "Epoch [2/5], Step [500/600], Loss: 0.0292\n",
      "Epoch [2/5], Step [600/600], Loss: 0.0302\n",
      "Epoch [3/5], Step [100/600], Loss: 0.0059\n",
      "Epoch [3/5], Step [200/600], Loss: 0.0250\n",
      "Epoch [3/5], Step [300/600], Loss: 0.0599\n",
      "Epoch [3/5], Step [400/600], Loss: 0.0405\n",
      "Epoch [3/5], Step [500/600], Loss: 0.0893\n",
      "Epoch [3/5], Step [600/600], Loss: 0.0358\n",
      "Epoch [4/5], Step [100/600], Loss: 0.0157\n",
      "Epoch [4/5], Step [200/600], Loss: 0.0439\n",
      "Epoch [4/5], Step [300/600], Loss: 0.0414\n",
      "Epoch [4/5], Step [400/600], Loss: 0.0188\n",
      "Epoch [4/5], Step [500/600], Loss: 0.0439\n",
      "Epoch [4/5], Step [600/600], Loss: 0.0551\n",
      "Epoch [5/5], Step [100/600], Loss: 0.0326\n",
      "Epoch [5/5], Step [200/600], Loss: 0.0241\n",
      "Epoch [5/5], Step [300/600], Loss: 0.0045\n",
      "Epoch [5/5], Step [400/600], Loss: 0.0092\n",
      "Epoch [5/5], Step [500/600], Loss: 0.0026\n",
      "Epoch [5/5], Step [600/600], Loss: 0.0510\n"
     ]
    }
   ],
   "source": [
    "model = ConvNet(num_classes).to(device)\n",
    "\n",
    "# Loss and optimizer\n",
    "criterion = nn.CrossEntropyLoss()\n",
    "optimizer = torch.optim.Adam(model.parameters(), lr=learning_rate)\n",
    "total_step = len(train_loader)\n",
    "for epoch in range(num_epochs):\n",
    "    for i, (images, labels) in enumerate(train_loader):\n",
    "        images = images.to(device)\n",
    "        labels = labels.to(device)\n",
    "        \n",
    "        # Forward pass\n",
    "        outputs = model(images)\n",
    "        loss = criterion(outputs, labels)\n",
    "        \n",
    "        # Backward and optimize\n",
    "        optimizer.zero_grad()\n",
    "        loss.backward()\n",
    "        optimizer.step()\n",
    "        \n",
    "        if (i+1) % 100 == 0:\n",
    "            print ('Epoch [{}/{}], Step [{}/{}], Loss: {:.4f}' \n",
    "                   .format(epoch+1, num_epochs, i+1, total_step, loss.item()))"
   ]
  },
  {
   "cell_type": "markdown",
   "metadata": {},
   "source": [
    "Evaluatin the model using the test data to gain the accuracy of the CNN model training above"
   ]
  },
  {
   "cell_type": "code",
   "execution_count": 17,
   "metadata": {},
   "outputs": [
    {
     "name": "stdout",
     "output_type": "stream",
     "text": [
      "Test Accuracy of the model on the 10000 test images: 99.11 %\n"
     ]
    }
   ],
   "source": [
    "model.eval()  # eval mode (batchnorm uses moving mean/variance instead of mini-batch mean/variance)\n",
    "with torch.no_grad():\n",
    "    correct = 0\n",
    "    total = 0\n",
    "    for images, labels in test_loader:\n",
    "        images = images.to(device)\n",
    "        labels = labels.to(device)\n",
    "        outputs = model(images)\n",
    "        _, predicted = torch.max(outputs.data, 1)\n",
    "        total += labels.size(0)\n",
    "        correct += (predicted == labels).sum().item()\n",
    "\n",
    "    print('Test Accuracy of the model on the 10000 test images: {} %'.format(100 * correct / total))"
   ]
  },
  {
   "cell_type": "code",
   "execution_count": 30,
   "metadata": {},
   "outputs": [],
   "source": [
    "import matplotlib.pyplot as plt\n",
    "import numpy as np\n",
    "\n",
    "# functions to show an image\n",
    "\n",
    "\n",
    "def imshow(img):\n",
    "    img = img / 2 + 0.5     # unnormalize\n",
    "    npimg = img.numpy()\n",
    "    plt.imshow(np.transpose(npimg, (1, 2, 0)))"
   ]
  },
  {
   "cell_type": "code",
   "execution_count": 31,
   "metadata": {},
   "outputs": [],
   "source": [
    "classes = ('1', '2', '3', '4','5', '6', '7', '8', '9', '0')"
   ]
  },
  {
   "cell_type": "code",
   "execution_count": 32,
   "metadata": {},
   "outputs": [
    {
     "name": "stdout",
     "output_type": "stream",
     "text": [
      "    2 horse     1     1\n"
     ]
    },
    {
     "data": {
      "image/png": "[encoded data removed]",
      "text/plain": [
       "<Figure size 432x288 with 1 Axes>"
      ]
     },
     "metadata": {},
     "output_type": "display_data"
    }
   ],
   "source": [
    "dataiter = iter(train_loader)\n",
    "images, labels = dataiter.next()\n",
    "\n",
    "# show images\n",
    "imshow(torchvision.utils.make_grid(images))\n",
    "# print labels\n",
    "print(' '.join('%5s' % classes[labels[j]] for j in range(4)))"
   ]
  },
  {
   "cell_type": "code",
   "execution_count": null,
   "metadata": {},
   "outputs": [],
   "source": []
  }
 ],
 "metadata": {
  "kernelspec": {
   "display_name": "Python 3",
   "language": "python",
   "name": "python3"
  },
  "language_info": {
   "codemirror_mode": {
    "name": "ipython",
    "version": 3
   },
   "file_extension": ".py",
   "mimetype": "text/x-python",
   "name": "python",
   "nbconvert_exporter": "python",
   "pygments_lexer": "ipython3",
   "version": "3.5.5"
  }
 },
 "nbformat": 4,
 "nbformat_minor": 2
}
